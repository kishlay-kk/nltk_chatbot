{
  "nbformat": 4,
  "nbformat_minor": 0,
  "metadata": {
    "colab": {
      "name": "corpora.ipynb",
      "version": "0.3.2",
      "provenance": []
    },
    "kernelspec": {
      "name": "python3",
      "display_name": "Python 3"
    }
  },
  "cells": [
    {
      "metadata": {
        "id": "2maCiHGv2tMc",
        "colab_type": "text"
      },
      "cell_type": "markdown",
      "source": [
        "A chat bot is a proogram that essentially does the following processes\n",
        "STEP 1. Read the text sent to it as input\n",
        "STEP 2. Breaks it down into component sentences-->Phrases-->Words\n",
        "STEP 3. Classify those words according to Parts of Speech\n",
        "STEP 4. Understand the relation between these words\n"
      ]
    },
    {
      "metadata": {
        "id": "AmVytfML3hnW",
        "colab_type": "text"
      },
      "cell_type": "markdown",
      "source": [
        "A large number of  speech parts including statements, questions, conjectures and their responses \n",
        "together in a structured form is called Corpus/Corpora.\n",
        "\n",
        "There are many corpora and treebanks distributed with the NLTK toolkit, listed in the NLTK Book here: http://www.nltk.org/nltk_data/\n",
        "\n",
        "Here I am using NLTK = Natural Language Toolkit for functionality.\n"
      ]
    },
    {
      "metadata": {
        "id": "R_U3Itsz4kBf",
        "colab_type": "code",
        "colab": {
          "base_uri": "https://localhost:8080/",
          "height": 51
        },
        "outputId": "97a7d65c-decf-4263-8b86-0da87f29c2e5"
      },
      "cell_type": "code",
      "source": [
        "import nltk\n",
        "nltk.download(\"reuters\")                 #nltk is the library,, reuters is \n",
        "                                         #    one of corpora\n",
        "                                         #  Reuters was a Business Journal "
      ],
      "execution_count": 4,
      "outputs": [
        {
          "output_type": "stream",
          "text": [
            "[nltk_data] Downloading package reuters to /root/nltk_data...\n"
          ],
          "name": "stdout"
        },
        {
          "output_type": "execute_result",
          "data": {
            "text/plain": [
              "True"
            ]
          },
          "metadata": {
            "tags": []
          },
          "execution_count": 4
        }
      ]
    },
    {
      "metadata": {
        "id": "k2nH5TiN8WsP",
        "colab_type": "text"
      },
      "cell_type": "markdown",
      "source": [
        "**Categories Files Words**\n",
        "\n",
        "Categories are different sets of data defined within a file previously. We can use these pre-defined categories for oour processes"
      ]
    },
    {
      "metadata": {
        "id": "5NEOQImw9Va0",
        "colab_type": "code",
        "colab": {
          "base_uri": "https://localhost:8080/",
          "height": 187
        },
        "outputId": "d6955455-20cf-4e4f-efa9-13b7221ef72c"
      },
      "cell_type": "code",
      "source": [
        "from nltk.corpus import reuters\n",
        "categories = reuters.categories()\n",
        "print(\"Number of Categories:\",len(categories))\n",
        "print(categories[0:10],\"\\n\",categories[10:20],\"\\n\",categories[20:30],\"\\n\",categories[30:40]\n",
        "      ,\"\\n\",categories[40:50],\"\\n\",categories[50:60],\"\\n\",categories[60:70],\"\\n\",\n",
        "      categories[70:80],\"\\n\",categories[80:90])"
      ],
      "execution_count": 13,
      "outputs": [
        {
          "output_type": "stream",
          "text": [
            "Number of Categories: 90\n",
            "['acq', 'alum', 'barley', 'bop', 'carcass', 'castor-oil', 'cocoa', 'coconut', 'coconut-oil', 'coffee'] \n",
            " ['copper', 'copra-cake', 'corn', 'cotton', 'cotton-oil', 'cpi', 'cpu', 'crude', 'dfl', 'dlr'] \n",
            " ['dmk', 'earn', 'fuel', 'gas', 'gnp', 'gold', 'grain', 'groundnut', 'groundnut-oil', 'heat'] \n",
            " ['hog', 'housing', 'income', 'instal-debt', 'interest', 'ipi', 'iron-steel', 'jet', 'jobs', 'l-cattle'] \n",
            " ['lead', 'lei', 'lin-oil', 'livestock', 'lumber', 'meal-feed', 'money-fx', 'money-supply', 'naphtha', 'nat-gas'] \n",
            " ['nickel', 'nkr', 'nzdlr', 'oat', 'oilseed', 'orange', 'palladium', 'palm-oil', 'palmkernel', 'pet-chem'] \n",
            " ['platinum', 'potato', 'propane', 'rand', 'rape-oil', 'rapeseed', 'reserves', 'retail', 'rice', 'rubber'] \n",
            " ['rye', 'ship', 'silver', 'sorghum', 'soy-meal', 'soy-oil', 'soybean', 'strategic-metal', 'sugar', 'sun-meal'] \n",
            " ['sun-oil', 'sunseed', 'tea', 'tin', 'trade', 'veg-oil', 'wheat', 'wpi', 'yen', 'zinc']\n"
          ],
          "name": "stdout"
        }
      ]
    },
    {
      "metadata": {
        "id": "EaAoQ1Yf_2b9",
        "colab_type": "text"
      },
      "cell_type": "markdown",
      "source": [
        "Various methods can be applied against a loaded corpus to perform actions such as extract the words from corpus, identify the files that make up a corpus, list category definitions in a corpus and extract text filtered by category.\n",
        "\n",
        "A list of common methods is provided in Chapter 2 of the [NLTK Book](http://www.nltk.org/book/ch02.html) as follows:  \n",
        "<table align=\"left\">\n",
        "<tr><td><b>Example</b></td>   <td align=\"left\"><b>Description</b></td></tr>\n",
        "<tr><td>fileids()</td>   <td align=\"left\">the files of the corpus</td></tr>\n",
        "<tr><td>fileids([categories])</td>   <td align=\"left\">the files of the corpus corresponding to these categories</td></tr>\n",
        "<tr><td>categories()</td>   <td align=\"left\">the categories of the corpus</td></tr>\n",
        "<tr><td>categories([fileids])</td>   <td align=\"left\">the categories of the corpus corresponding to these files</td></tr>\n",
        "<tr><td>raw()</td>   <td align=\"left\">the raw content of the corpus</td></tr>\n",
        "<tr><td>raw(fileids=[f1,f2,f3])</td>   <td align=\"left\">the raw content of the specified files</td></tr>\n",
        "<tr><td>raw(categories=[c1,c2])</td>   <td align=\"left\">the raw content of the specified categories</td></tr>\n",
        "<tr><td>words()</td>   <td align=\"left\">the words of the whole corpus</td></tr>\n",
        "<tr><td>words(fileids=[f1,f2,f3])</td>   <td align=\"left\">the words of the specified fileids</td></tr>\n",
        "<tr><td>words(categories=[c1,c2])</td>   <td align=\"left\">the words of the specified categories</td></tr>\n",
        "<tr><td>sents()</td>   <td align=\"left\">the sentences of the whole corpus</td></tr>\n",
        "<tr><td>sents(fileids=[f1,f2,f3])</td>   <td align=\"left\">the sentences of the specified fileids</td></tr>\n",
        "<tr><td>sents(categories=[c1,c2])</td>   <td align=\"left\">the sentences of the specified categories</td></tr>\n",
        "<tr><td>abspath(fileid)</td>   <td align=\"left\">the location of the given file on disk</td></tr>\n",
        "<tr><td>encoding(fileid)</td>   <td align=\"left\">the encoding of the file (if known)</td></tr>\n",
        "<tr><td>open(fileid)</td>   <td align=\"left\">open a stream for reading the given corpus file</td></tr>\n",
        "<tr><td>root</td>   <td align=\"left\">if the path to the root of locally installed corpus</td></tr>\n",
        "<tr><td>readme()</td>   <td align=\"left\">the contents of the README file of the corpus</td></tr>\n",
        "</table>\n"
      ]
    },
    {
      "metadata": {
        "id": "VdaaHcsQAASE",
        "colab_type": "text"
      },
      "cell_type": "markdown",
      "source": [
        "***Operations on words ***"
      ]
    },
    {
      "metadata": {
        "id": "_3t1gZ7LAOKd",
        "colab_type": "code",
        "colab": {
          "base_uri": "https://localhost:8080/",
          "height": 34
        },
        "outputId": "9de36c4d-5606-4c15-9be0-755d3911b031"
      },
      "cell_type": "code",
      "source": [
        "words = reuters.words()\n",
        "print(\"Number of Words\",len(words))"
      ],
      "execution_count": 14,
      "outputs": [
        {
          "output_type": "stream",
          "text": [
            "Number of Words 1720901\n"
          ],
          "name": "stdout"
        }
      ]
    },
    {
      "metadata": {
        "id": "Xc88CDtRBKW6",
        "colab_type": "code",
        "colab": {
          "base_uri": "https://localhost:8080/",
          "height": 34
        },
        "outputId": "99064a25-e334-43b1-c497-ec49094e10f0"
      },
      "cell_type": "code",
      "source": [
        "print(\"First 10 words :\",words[0:9])"
      ],
      "execution_count": 15,
      "outputs": [
        {
          "output_type": "stream",
          "text": [
            "First 10 words : ['ASIAN', 'EXPORTERS', 'FEAR', 'DAMAGE', 'FROM', 'U', '.', 'S', '.-']\n"
          ],
          "name": "stdout"
        }
      ]
    },
    {
      "metadata": {
        "id": "bxpxXCDaBZ89",
        "colab_type": "code",
        "colab": {
          "base_uri": "https://localhost:8080/",
          "height": 34
        },
        "outputId": "b6091627-e6b8-42c3-cb13-50af362854f7"
      },
      "cell_type": "code",
      "source": [
        "words_metals=reuters.words(categories=['nickel','iron-steel','zinc','platinum','palladium','lead'])\n",
        "print(\"Number of words in category - METALS\",len(words_metals))"
      ],
      "execution_count": 17,
      "outputs": [
        {
          "output_type": "stream",
          "text": [
            "Number of words in category - METALS 23252\n"
          ],
          "name": "stdout"
        }
      ]
    },
    {
      "metadata": {
        "id": "IdUuXlajCb6O",
        "colab_type": "code",
        "colab": {
          "base_uri": "https://localhost:8080/",
          "height": 34
        },
        "outputId": "d6661c7f-3b68-46b4-9c6e-6a94ee514b6c"
      },
      "cell_type": "code",
      "source": [
        "f= reuters.fileids()\n",
        "print(\"Fileids:--\",f[0:9])"
      ],
      "execution_count": 18,
      "outputs": [
        {
          "output_type": "stream",
          "text": [
            "Fileids:-- ['test/14826', 'test/14828', 'test/14829', 'test/14832', 'test/14833', 'test/14839', 'test/14840', 'test/14841', 'test/14842']\n"
          ],
          "name": "stdout"
        }
      ]
    },
    {
      "metadata": {
        "id": "9ptwN2rgDARD",
        "colab_type": "code",
        "colab": {
          "base_uri": "https://localhost:8080/",
          "height": 34
        },
        "outputId": "d0bfff53-39ed-4801-a385-b679a10336f3"
      },
      "cell_type": "code",
      "source": [
        "sentences=reuters.sents()\n",
        "print(\"No of Sntences=\",len(sentences))"
      ],
      "execution_count": 19,
      "outputs": [
        {
          "output_type": "stream",
          "text": [
            "No of Sntences= 54716\n"
          ],
          "name": "stdout"
        }
      ]
    },
    {
      "metadata": {
        "colab_type": "code",
        "outputId": "879acdbb-d109-4884-84dc-af5794e4f228",
        "id": "HbJF4jphGOSh",
        "colab": {
          "base_uri": "https://localhost:8080/",
          "height": 34
        }
      },
      "cell_type": "code",
      "source": [
        "sentences_platinum=reuters.sents(categories=['platinum'])\n",
        "print(\"No of Sentences related to Nickel:-\",len(sentences_platinum))\n"
      ],
      "execution_count": 0,
      "outputs": [
        {
          "output_type": "stream",
          "text": [
            "No of Sentences related to Nickel:- 69\n"
          ],
          "name": "stdout"
        }
      ]
    },
    {
      "metadata": {
        "id": "7ZMB2-BFGQFt",
        "colab_type": "code",
        "colab": {
          "base_uri": "https://localhost:8080/",
          "height": 54
        },
        "outputId": "4885d1b4-43de-4901-f517-1a684eeb2bc6"
      },
      "cell_type": "code",
      "source": [
        "print(sentences_platinum[0])"
      ],
      "execution_count": 23,
      "outputs": [
        {
          "output_type": "stream",
          "text": [
            "['JOHNSON', 'MATTHEY', \"'\", 'S', 'PLATINUM', 'GROUP', 'PRICES', 'Johnson', 'Matthey', 'today', 'issued', 'the', 'following', 'Platinum', 'group', 'base', 'prices', '(', 'unfabricated', '),', 'all', 'U', '.', 'S', '.', 'Dlrs', 'per', 'troy', 'ounce', '.']\n"
          ],
          "name": "stdout"
        }
      ]
    },
    {
      "metadata": {
        "id": "8Vr2AfyHIDpe",
        "colab_type": "code",
        "colab": {
          "base_uri": "https://localhost:8080/",
          "height": 369
        },
        "outputId": "48af0a06-010f-4a3c-b37a-7c156ce81737"
      },
      "cell_type": "code",
      "source": [
        "fdist = nltk.FreqDist(words)\n",
        "fdist.plot(20, cumulative=False)"
      ],
      "execution_count": 25,
      "outputs": [
        {
          "output_type": "display_data",
          "data": {
            "image/png": "[encoded data removed]",
            "text/plain": [
              "<Figure size 576x396 with 1 Axes>"
            ]
          },
          "metadata": {
            "tags": []
          }
        }
      ]
    },
    {
      "metadata": {
        "id": "ZePlQUnsGfIY",
        "colab_type": "code",
        "colab": {
          "base_uri": "https://localhost:8080/",
          "height": 187
        },
        "outputId": "dc1eccf5-38f3-4cf4-be9f-39a694f43b9b"
      },
      "cell_type": "code",
      "source": [
        "for word, frequency in fdist.most_common(10):\n",
        "    print(word, frequency)"
      ],
      "execution_count": 26,
      "outputs": [
        {
          "output_type": "stream",
          "text": [
            ". 94687\n",
            ", 72360\n",
            "the 58251\n",
            "of 35979\n",
            "to 34035\n",
            "in 26478\n",
            "said 25224\n",
            "and 25043\n",
            "a 23492\n",
            "mln 18037\n"
          ],
          "name": "stdout"
        }
      ]
    },
    {
      "metadata": {
        "id": "hliluVekISl7",
        "colab_type": "text"
      },
      "cell_type": "markdown",
      "source": [
        "In the above two examples we see that the most used words  are not exactly words but punctuations\n",
        "To compare actual words we first need to create a different variable having only proper words"
      ]
    },
    {
      "metadata": {
        "id": "ZYbDvpl4H8uy",
        "colab_type": "code",
        "colab": {
          "base_uri": "https://localhost:8080/",
          "height": 88
        },
        "outputId": "8cc3d424-298a-46d5-b98f-85f757ad3a06"
      },
      "cell_type": "code",
      "source": [
        "nltk.download('stopwords')\n",
        "from nltk.corpus import stopwords\n",
        "import string\n",
        "print(stopwords.words('english'))"
      ],
      "execution_count": 28,
      "outputs": [
        {
          "output_type": "stream",
          "text": [
            "[nltk_data] Downloading package stopwords to /root/nltk_data...\n",
            "[nltk_data]   Unzipping corpora/stopwords.zip.\n",
            "['i', 'me', 'my', 'myself', 'we', 'our', 'ours', 'ourselves', 'you', \"you're\", \"you've\", \"you'll\", \"you'd\", 'your', 'yours', 'yourself', 'yourselves', 'he', 'him', 'his', 'himself', 'she', \"she's\", 'her', 'hers', 'herself', 'it', \"it's\", 'its', 'itself', 'they', 'them', 'their', 'theirs', 'themselves', 'what', 'which', 'who', 'whom', 'this', 'that', \"that'll\", 'these', 'those', 'am', 'is', 'are', 'was', 'were', 'be', 'been', 'being', 'have', 'has', 'had', 'having', 'do', 'does', 'did', 'doing', 'a', 'an', 'the', 'and', 'but', 'if', 'or', 'because', 'as', 'until', 'while', 'of', 'at', 'by', 'for', 'with', 'about', 'against', 'between', 'into', 'through', 'during', 'before', 'after', 'above', 'below', 'to', 'from', 'up', 'down', 'in', 'out', 'on', 'off', 'over', 'under', 'again', 'further', 'then', 'once', 'here', 'there', 'when', 'where', 'why', 'how', 'all', 'any', 'both', 'each', 'few', 'more', 'most', 'other', 'some', 'such', 'no', 'nor', 'not', 'only', 'own', 'same', 'so', 'than', 'too', 'very', 's', 't', 'can', 'will', 'just', 'don', \"don't\", 'should', \"should've\", 'now', 'd', 'll', 'm', 'o', 're', 've', 'y', 'ain', 'aren', \"aren't\", 'couldn', \"couldn't\", 'didn', \"didn't\", 'doesn', \"doesn't\", 'hadn', \"hadn't\", 'hasn', \"hasn't\", 'haven', \"haven't\", 'isn', \"isn't\", 'ma', 'mightn', \"mightn't\", 'mustn', \"mustn't\", 'needn', \"needn't\", 'shan', \"shan't\", 'shouldn', \"shouldn't\", 'wasn', \"wasn't\", 'weren', \"weren't\", 'won', \"won't\", 'wouldn', \"wouldn't\"]\n"
          ],
          "name": "stdout"
        }
      ]
    },
    {
      "metadata": {
        "id": "cJ6LJRXhJ8GN",
        "colab_type": "code",
        "colab": {
          "base_uri": "https://localhost:8080/",
          "height": 34
        },
        "outputId": "249cc07b-9955-43cd-e70a-49e6d7cbe1df"
      },
      "cell_type": "code",
      "source": [
        "#Extract at a sepecific category\n",
        "tradeWords = reuters.words(categories = 'trade')\n",
        "len(tradeWords)"
      ],
      "execution_count": 32,
      "outputs": [
        {
          "output_type": "execute_result",
          "data": {
            "text/plain": [
              "142723"
            ]
          },
          "metadata": {
            "tags": []
          },
          "execution_count": 32
        }
      ]
    },
    {
      "metadata": {
        "id": "H0C4fN4OJBqy",
        "colab_type": "code",
        "colab": {
          "base_uri": "https://localhost:8080/",
          "height": 51
        },
        "outputId": "2d0890e2-8cb8-4d5d-a1ce-571aee9b4fbc"
      },
      "cell_type": "code",
      "source": [
        "tradeWords = [w for w in tradeWords if w.lower() not in stopwords.words('english') ]\n",
        "tradeWords = [w for w in tradeWords if w not in string.punctuation]\n",
        "punctCombo = [c+\"\\\"\" for c in string.punctuation ]+ [\"\\\"\"+c for c in string.punctuation ]\n",
        "tradeWords = [w for w in tradeWords if w not in punctCombo]\n",
        "print(tradeWords[0:9])\n",
        "len(tradeWords)"
      ],
      "execution_count": 33,
      "outputs": [
        {
          "output_type": "stream",
          "text": [
            "['ASIAN', 'EXPORTERS', 'FEAR', 'DAMAGE', 'U', '.-', 'JAPAN', 'RIFT', 'Mounting']\n"
          ],
          "name": "stdout"
        },
        {
          "output_type": "execute_result",
          "data": {
            "text/plain": [
              "78019"
            ]
          },
          "metadata": {
            "tags": []
          },
          "execution_count": 33
        }
      ]
    },
    {
      "metadata": {
        "id": "QCTiQQ7YJhzj",
        "colab_type": "code",
        "colab": {
          "base_uri": "https://localhost:8080/",
          "height": 395
        },
        "outputId": "7a1001f5-504d-4d34-8fa9-a156b9310aa8"
      },
      "cell_type": "code",
      "source": [
        "fdist = nltk.FreqDist(tradeWords)\n",
        "fdist.plot(20, cumulative=False)"
      ],
      "execution_count": 34,
      "outputs": [
        {
          "output_type": "display_data",
          "data": {
            "image/png": "[encoded data removed]",
            "text/plain": [
              "<Figure size 576x396 with 1 Axes>"
            ]
          },
          "metadata": {
            "tags": []
          }
        }
      ]
    },
    {
      "metadata": {
        "id": "z7Lf8t9hKOOg",
        "colab_type": "code",
        "colab": {
          "base_uri": "https://localhost:8080/",
          "height": 187
        },
        "outputId": "f86f29b5-ac15-4af5-a2f6-82713756b08c"
      },
      "cell_type": "code",
      "source": [
        "for word, frequency in fdist.most_common(10):\n",
        "    print(word, frequency)"
      ],
      "execution_count": 36,
      "outputs": [
        {
          "output_type": "stream",
          "text": [
            "said 2177\n",
            "trade 1518\n",
            "U 1452\n",
            "billion 1063\n",
            "Japan 720\n",
            "dlrs 628\n",
            "year 610\n",
            "would 592\n",
            "pct 520\n",
            "mln 475\n"
          ],
          "name": "stdout"
        }
      ]
    },
    {
      "metadata": {
        "id": "Ka48uHWlKz4G",
        "colab_type": "text"
      },
      "cell_type": "markdown",
      "source": [
        "**Bi-Grams** :- They are pair of words placed next to each other"
      ]
    },
    {
      "metadata": {
        "id": "Y2mbNfiyKW2e",
        "colab_type": "code",
        "colab": {
          "base_uri": "https://localhost:8080/",
          "height": 464
        },
        "outputId": "8fabf54e-b9f6-4703-9ce4-3f51062fccd5"
      },
      "cell_type": "code",
      "source": [
        "biTradeWords = nltk.bigrams(tradeWords)       #  nltk.bigrams is a function that finds these pairs of words\n",
        "biFdist = nltk.FreqDist(biTradeWords)         #  nltk.FreqDist plots the frequencies of these words\n",
        "biFdist.plot(20, cumulative=False) "
      ],
      "execution_count": 37,
      "outputs": [
        {
          "output_type": "display_data",
          "data": {
            "image/png": "[encoded data removed]",
            "text/plain": [
              "<Figure size 576x396 with 1 Axes>"
            ]
          },
          "metadata": {
            "tags": []
          }
        }
      ]
    },
    {
      "metadata": {
        "id": "rWCUmDWqLGTA",
        "colab_type": "code",
        "colab": {}
      },
      "cell_type": "code",
      "source": [
        ""
      ],
      "execution_count": 0,
      "outputs": []
    }
  ]
}